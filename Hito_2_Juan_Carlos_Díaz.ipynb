{
  "nbformat": 4,
  "nbformat_minor": 0,
  "metadata": {
    "colab": {
      "provenance": [],
      "toc_visible": true,
      "authorship_tag": "ABX9TyPEofPGUVagu4GOXVe9dOCi",
      "include_colab_link": true
    },
    "kernelspec": {
      "name": "python3",
      "display_name": "Python 3"
    },
    "language_info": {
      "name": "python"
    }
  },
  "cells": [
    {
      "cell_type": "markdown",
      "metadata": {
        "id": "view-in-github",
        "colab_type": "text"
      },
      "source": [
        "<a href=\"https://colab.research.google.com/github/jcdiaz2/Hito-1/blob/master/Hito_2_Juan_Carlos_D%C3%ADaz.ipynb\" target=\"_parent\"><img src=\"https://colab.research.google.com/assets/colab-badge.svg\" alt=\"Open In Colab\"/></a>"
      ]
    },
    {
      "cell_type": "markdown",
      "source": [
        "# Juan Carlos Díaz"
      ],
      "metadata": {
        "id": "H3922miGSWhf"
      }
    },
    {
      "cell_type": "markdown",
      "source": [
        "# Conectar con la api\n",
        "Primero se muesta como conecta para obtener los valores reales, que posteriormente se utilizarán en los modelos\n"
      ],
      "metadata": {
        "id": "4gwi3gxWotQK"
      }
    },
    {
      "cell_type": "code",
      "execution_count": null,
      "metadata": {
        "colab": {
          "base_uri": "https://localhost:8080/"
        },
        "id": "QygF7JlwodIs",
        "outputId": "630cfddf-f8dd-4d49-dad3-3a585f08ce28"
      },
      "outputs": [
        {
          "output_type": "stream",
          "name": "stdout",
          "text": [
            "Requirement already satisfied: yfinance in /usr/local/lib/python3.10/dist-packages (0.2.31)\n",
            "Requirement already satisfied: pandas>=1.3.0 in /usr/local/lib/python3.10/dist-packages (from yfinance) (1.5.3)\n",
            "Requirement already satisfied: numpy>=1.16.5 in /usr/local/lib/python3.10/dist-packages (from yfinance) (1.23.5)\n",
            "Requirement already satisfied: requests>=2.31 in /usr/local/lib/python3.10/dist-packages (from yfinance) (2.31.0)\n",
            "Requirement already satisfied: multitasking>=0.0.7 in /usr/local/lib/python3.10/dist-packages (from yfinance) (0.0.11)\n",
            "Requirement already satisfied: lxml>=4.9.1 in /usr/local/lib/python3.10/dist-packages (from yfinance) (4.9.3)\n",
            "Requirement already satisfied: appdirs>=1.4.4 in /usr/local/lib/python3.10/dist-packages (from yfinance) (1.4.4)\n",
            "Requirement already satisfied: pytz>=2022.5 in /usr/local/lib/python3.10/dist-packages (from yfinance) (2023.3.post1)\n",
            "Requirement already satisfied: frozendict>=2.3.4 in /usr/local/lib/python3.10/dist-packages (from yfinance) (2.3.8)\n",
            "Requirement already satisfied: peewee>=3.16.2 in /usr/local/lib/python3.10/dist-packages (from yfinance) (3.17.0)\n",
            "Requirement already satisfied: beautifulsoup4>=4.11.1 in /usr/local/lib/python3.10/dist-packages (from yfinance) (4.11.2)\n",
            "Requirement already satisfied: html5lib>=1.1 in /usr/local/lib/python3.10/dist-packages (from yfinance) (1.1)\n",
            "Requirement already satisfied: soupsieve>1.2 in /usr/local/lib/python3.10/dist-packages (from beautifulsoup4>=4.11.1->yfinance) (2.5)\n",
            "Requirement already satisfied: six>=1.9 in /usr/local/lib/python3.10/dist-packages (from html5lib>=1.1->yfinance) (1.16.0)\n",
            "Requirement already satisfied: webencodings in /usr/local/lib/python3.10/dist-packages (from html5lib>=1.1->yfinance) (0.5.1)\n",
            "Requirement already satisfied: python-dateutil>=2.8.1 in /usr/local/lib/python3.10/dist-packages (from pandas>=1.3.0->yfinance) (2.8.2)\n",
            "Requirement already satisfied: charset-normalizer<4,>=2 in /usr/local/lib/python3.10/dist-packages (from requests>=2.31->yfinance) (3.3.1)\n",
            "Requirement already satisfied: idna<4,>=2.5 in /usr/local/lib/python3.10/dist-packages (from requests>=2.31->yfinance) (3.4)\n",
            "Requirement already satisfied: urllib3<3,>=1.21.1 in /usr/local/lib/python3.10/dist-packages (from requests>=2.31->yfinance) (2.0.7)\n",
            "Requirement already satisfied: certifi>=2017.4.17 in /usr/local/lib/python3.10/dist-packages (from requests>=2.31->yfinance) (2023.7.22)\n"
          ]
        }
      ],
      "source": [
        "pip install yfinance"
      ]
    },
    {
      "cell_type": "code",
      "source": [
        "import yfinance as yf\n",
        "import numpy as np\n",
        "from scipy.stats import norm\n",
        "import datetime\n",
        "\n",
        "# Símbolo del Banco de Chile en Yahoo Finance\n",
        "symbol = 'BCH'\n",
        "\n",
        "# Obtener datos históricos desde Yahoo Finance\n",
        "start_date = datetime.datetime(2022, 1, 1)\n",
        "end_date = datetime.datetime(2022, 12, 31)\n",
        "stock_data = yf.download(symbol, start=start_date, end=end_date)\n",
        "\n",
        "# Obtener el precio actual\n",
        "current_price = stock_data['Adj Close'][-1]\n",
        "print(f\"El precio de actual de una acción del Banco de Chile es: {current_price}\")\n",
        "\n",
        "\n",
        "#obtener la fecha de vencimiento\n",
        "from datetime import datetime\n",
        "\n",
        "fecha_actual = datetime.now()\n",
        "fecha_vencimiento = datetime(2023, 12, 31)  # Cambiar a fecha necesaria\n",
        "\n",
        "diferencia = fecha_vencimiento - fecha_actual # Calcular la diferencia entre las fechas\n",
        "\n",
        "dias_hasta_vencimiento = diferencia.days\n",
        "semanas_hasta_vencimiento = dias_hasta_vencimiento / 7.0\n",
        "meses_hasta_vencimiento = dias_hasta_vencimiento / 30.44  # Asumiendo un promedio de días por mes\n",
        "años_hasta_vencimiento = dias_hasta_vencimiento /252\n",
        "\n",
        "print(f'Tiempo hasta el vencimiento: {años_hasta_vencimiento} días')\n",
        "\n",
        "# Para la desviación estandar, volatilidad\n",
        "\n",
        "historical_data = yf.download(symbol, start=start_date, end=end_date) #datos historicos\n",
        "\n",
        "historical_data['Daily Returns'] = historical_data['Adj Close'].pct_change()# Calcular rendimientos diarios\n",
        "\n",
        "# Calcular la volatilidad histórica\n",
        "volatility = np.std(historical_data['Daily Returns']) * np.sqrt(252)  # Se asume 252 días hábiles en un año\n",
        "\n",
        "print(f'Volatilidad histórica del Banco de Chile: {volatility:.4f}')\n",
        "\n",
        "#Para la tasa de interes libre de riesgo\n",
        "\n",
        "symbol_bono = \"^TNX\" ##'^CHILE10Y' #ver bien el del gob de Chile, se usa este otro como similar\n",
        "\n",
        "historical_data_bono = yf.download(symbol_bono, start=start_date, end=end_date)# Obtener datos históricos del bono del gobierno desde Yahoo Finance\n",
        "\n",
        "historical_data_bono['Daily Returns'] = historical_data_bono['Adj Close'].pct_change()# Calcular rendimientos diarios\n",
        "\n",
        "tasa_libre_riesgo = np.mean(historical_data_bono['Daily Returns']) * 252  # Asumiendo 252 días hábiles en un año\n",
        "\n",
        "print(f'Tasa de interés libre de riesgo compuesta continuamente: {tasa_libre_riesgo:.4f}')\n",
        "\n",
        "#para el calculo del S0\n",
        "\n",
        "data = yf.Ticker(symbol)\n",
        "S0 = data.history(period=\"1d\")[\"Close\"].iloc[-1]\n",
        "\n",
        "print(f\"El S0 será:{S0}\")\n"
      ],
      "metadata": {
        "colab": {
          "base_uri": "https://localhost:8080/"
        },
        "id": "mZzY5Wy1tfBG",
        "outputId": "f50baa8e-f912-4e48-bdf4-d49de606af54"
      },
      "execution_count": null,
      "outputs": [
        {
          "output_type": "stream",
          "name": "stdout",
          "text": [
            "\r[*********************100%%**********************]  1 of 1 completed\n",
            "El precio de actual de una acción del Banco de Chile es: 18.707515716552734\n",
            "Tiempo hasta el vencimiento: 0.25793650793650796 días\n",
            "[*********************100%%**********************]  1 of 1 completed\n",
            "Volatilidad histórica del Banco de Chile: 0.3291\n",
            "[*********************100%%**********************]  1 of 1 completed\n",
            "Tasa de interés libre de riesgo compuesta continuamente: 0.9721\n",
            "El S0 será:19.530000686645508\n"
          ]
        }
      ]
    },
    {
      "cell_type": "markdown",
      "metadata": {
        "id": "fE2qAdg1NKr7"
      },
      "source": [
        "# Valoración opciones aplicada\n",
        "\n",
        "Tome en consideración el modelo continuio de Black and Scholes:\n",
        "\n",
        "$$C(S,t)=S\\cdot\\Phi(d_1)-K\\exp(-R\\cdot t)\\cdot\\Phi(d_2)$$\n",
        "\n",
        "donde $d_1=\\frac{\\log\\frac{S}{K}+\\left(R+\\frac{\\sigma^2}{2}\\right)\\cdot t}{\\sqrt{\\sigma^2\\cdot t}}$ y $d_2=d_1-\\sqrt{\\sigma^2\\cdot t}$.\n",
        "\n",
        "Mediante los datos actuales descargados anteriormente, se tiene lo siguiente."
      ]
    },
    {
      "cell_type": "code",
      "source": [
        "import numpy as np\n",
        "from scipy.stats import norm\n",
        "\n",
        "def black_scholes_option_price(S, K, T, r, sigma, option_type='call'):\n",
        "    \"\"\"\n",
        "    Calcula el precio de una opción utilizando el modelo de Black-Scholes.\n",
        "\n",
        "    Parámetros:\n",
        "    S : Precio actual del activo subyacente (por ejemplo, precio de la acción).\n",
        "    K : Precio de ejercicio de la opción.\n",
        "    T : Tiempo hasta la expiración en años.\n",
        "    r : Tasa libre de riesgo.\n",
        "    sigma : Volatilidad del activo subyacente.\n",
        "    option_type : 'call' para una opción de compra, 'put' para una opción de venta.\n",
        "\n",
        "    Retorna:\n",
        "    El precio teórico de la opción.\n",
        "    \"\"\"\n",
        "    d1 = (np.log(S / K) + (r + 0.5 * sigma ** 2) * T) / (sigma * np.sqrt(T))\n",
        "    d2 = d1 - sigma * np.sqrt(T)\n",
        "\n",
        "    if option_type == 'call':\n",
        "        option_price = S * norm.cdf(d1) - K * np.exp(-r * T) * norm.cdf(d2)\n",
        "    elif option_type == 'put':\n",
        "        option_price = K * np.exp(-r * T) * norm.cdf(-d2) - S * norm.cdf(-d1)\n",
        "    else:\n",
        "        raise ValueError(\"option_type debe ser 'call' o 'put'.\")\n",
        "\n",
        "    return option_price\n",
        "\n",
        "# Datos para el cálculo\n",
        "#S0=S0  # Precio actual del Banco de Chile\n",
        "K = current_price  # Precio de ejercicio de la opción\n",
        "T = años_hasta_vencimiento  # Tiempo hasta la expiración en años\n",
        "r = tasa_libre_riesgo # Tasa libre de riesgo\n",
        "sigma = volatility  # Volatilidad del activo\n",
        "\n",
        "# Calcular el precio de una opción de compra\n",
        "call_option_price = black_scholes_option_price(S0, K, T, r, sigma, option_type='call')\n",
        "print(f'El precio teórico de la opción de compra es: {call_option_price}')\n",
        "\n",
        "# Calcular el precio de una opción de venta\n",
        "put_option_price = black_scholes_option_price(S0, K, T, r, sigma, option_type='put')\n",
        "print(f'El precio teórico de la opción de venta es: {put_option_price}')\n"
      ],
      "metadata": {
        "colab": {
          "base_uri": "https://localhost:8080/"
        },
        "id": "O3tHJjqVuROp",
        "outputId": "796202f1-87e3-4f24-ca12-990b54e43a7a"
      },
      "execution_count": null,
      "outputs": [
        {
          "output_type": "stream",
          "name": "stdout",
          "text": [
            "El precio teórico de la opción de compra es: 5.015983214096131\n",
            "El precio teórico de la opción de venta es: 0.04460042354522198\n"
          ]
        }
      ]
    },
    {
      "cell_type": "markdown",
      "source": [
        "# Modelo Binominal\n",
        "Corresponde a un modelo para valorar opciones financieras, al igual que el Black and Scholes. Pero este modelo se basa en la teoría de las opciones reales, se desarrolla en un ambiente neutral al riesgo, por lo que es posible valorar las opciones en flujos de fondos esperados, actualizados y suponiendo que los flujos crecen a tasa libre de riesgo. (El Modelo Binomial, n.d.)\n",
        "\n",
        "La idea de este modelo esta en que el precio del activo (en este caso la acción), puede subir o bajar en un periodo de tiempo, por lo que es un modelo eficiente para calcular el precio de la opción en cada punto del tiempo.\n",
        "\n",
        "#Pasos construcción del modelo:\n",
        "\n",
        "1. Construcción del Árbol Binomial: se observan las posibles trayectorias del precio de la opción en el tiempo, como el clásico árbol en probabilidades, donde cada nodo corresponde al precio y las flechas las probabilidades.\n",
        "\n",
        "2. Cálculo de Probabilidades: se asignan las probabilidades la cual si el precio aumenta es *p* y si dismunuye será *(1-p)*.\n",
        "\n",
        "3. Cálculo del Precio de la Opción: se utiliza la fórmula binomial. En donde la opción de compra (*C*) es:\n",
        "  *C= max(0,S-K)*\n",
        "\n",
        "  Y para la opción de venta (*P*) es:*P= max(0,K-S)*\n",
        "\n",
        "  En donde *S* es el precio del activo y *K* es el precio de ejecicio (misma manera de calcular que el modelo Black and Scholes)\n",
        "\n",
        "4. Descontar a Valor Presente: es necesario que se lleve a valor presente para obtener el valor actual de la opción.\n",
        "\n",
        "Con lo anterior, la formula para calcular el precio de la opción con el modelo binomial será:\n",
        "\n",
        "\n",
        "\n",
        "\n"
      ],
      "metadata": {
        "id": "XxGVwtN_HU31"
      }
    },
    {
      "cell_type": "markdown",
      "source": [
        "$C = e^{-rT} (pCu + (1-p)Cd) $"
      ],
      "metadata": {
        "id": "cu1grWyYAAP9"
      }
    },
    {
      "cell_type": "markdown",
      "source": [
        "En donde todos los terminos han sido mencionado anteriormente, aparece el termino *t*  que corresponde al intervalo de tiempo, además del *r* como la tasa libre de riesgo. El *Cu* que es el precio cuando la acción sube y el *Cd* que es cuando baja."
      ],
      "metadata": {
        "id": "6d1WSCqCMZxk"
      }
    },
    {
      "cell_type": "code",
      "source": [
        "import numpy as np\n",
        "\n",
        "def binomial_option_pricing(S, K, T, r, sigma, n, option_type='call'):\n",
        "    \"\"\"\n",
        "    Calcula el precio de una opción utilizando el modelo binomial.\n",
        "\n",
        "    Parámetros:\n",
        "    S : Precio actual del activo subyacente.\n",
        "    K : Precio de ejercicio de la opción.\n",
        "    T : Tiempo hasta la expiración en años.\n",
        "    r : Tasa libre de riesgo.\n",
        "    sigma : Volatilidad del activo subyacente.\n",
        "    n : Número de pasos en el modelo binomial.\n",
        "    option_type : 'call' para una opción de compra, 'put' para una opción de venta.\n",
        "\n",
        "    Retorna:\n",
        "    El precio teórico de la opción.\n",
        "    \"\"\"\n",
        "    dt = T / n\n",
        "    u = np.exp(sigma * np.sqrt(dt))\n",
        "    d = 1 / u\n",
        "    p = (np.exp(r * dt) - d) / (u - d)\n",
        "\n",
        "    option_prices = np.zeros((n + 1,))\n",
        "\n",
        "    # Calcular precios de la opción en el último período\n",
        "    for i in range(n + 1):\n",
        "        if option_type == 'call':\n",
        "            option_prices[i] = max(0, S * (u ** i) * (d ** (n - i)) - K)\n",
        "        elif option_type == 'put':\n",
        "            option_prices[i] = max(0, K - S * (u ** i) * (d ** (n - i)))\n",
        "\n",
        "    # Calcular precios en períodos anteriores\n",
        "    for j in range(n, 0, -1):\n",
        "        for i in range(j):\n",
        "            option_prices[i] = np.exp(-r * dt) * (p * option_prices[i + 1] + (1 - p) * option_prices[i])\n",
        "\n",
        "    return option_prices[0]\n",
        "\n",
        "# Parámetros para el cálculo\n",
        "#SO # Precio actual del Banco de Chile\n",
        "#K # Precio de ejercicio de la opción\n",
        "#Tiempo hasta la expiración en años\n",
        "# Tasa libre de riesgo\n",
        "#sigma =Volatilidad del activo\n",
        "n = 100  # Número de pasos en el modelo binomial\n",
        "\n",
        "# Calcular el precio de una opción de compra\n",
        "call_option_price = binomial_option_pricing(S0, K, T, r, sigma, n, option_type='call')\n",
        "print(f'El precio teórico de la opción de compra es: {call_option_price}')"
      ],
      "metadata": {
        "colab": {
          "base_uri": "https://localhost:8080/"
        },
        "id": "ps86en--NA0X",
        "outputId": "c1e1fe95-9909-4849-fcec-6f0bf32f88ff"
      },
      "execution_count": null,
      "outputs": [
        {
          "output_type": "stream",
          "name": "stdout",
          "text": [
            "El precio teórico de la opción de compra es: 5.01510263832148\n"
          ]
        }
      ]
    },
    {
      "cell_type": "markdown",
      "source": [
        "# Análisis\n",
        "\n",
        "Se puede observar que los 2 modelos cumplen la función de calcular el precio de compra o venta de una opción, uno tiene un enfoque más actualizado de los valores como es el binomial y el otro más global.\n",
        "\n",
        "Tienen similitudes más que nada en terminos de las variables, en ambos se utiliza el S0 (precio actual activo), el K (precio de ejercicio), el r (tasa de interés), sigma (volatilidad del activo) y t (tiempo de expiración). De hecho, dado que las variables son tan similares se es fácil el calculo del binomial, dado que ya se habían obtenido los valores reales con anterioridad.\n",
        "\n",
        "Dentro de las diferencias, podemos decir que el modelo binomial es más preciso, dado que tiene más pasos e iteraciones que dan un valor muy fiable, siendo preciso dada la cantidad de repeticiones. Por otro lado el Black and Scholes es más sencillo, menos preciso pero más fácil de utilizar.\n",
        "\n",
        "De acuerdo a los valores el Black and Scholes entrega un 5,0159 y el Binomial un 5,0151. Se puede ver que son valores bastante similares y en realidad no hay una razón de fondo a elegir uno sobre otro observando solamente estos valores. Por otro lado, es importante mencionar que si se aumentan las repeticiones del Binomial ya dependería de si el computador pueda o no.\n",
        "\n",
        "Por eso, no hay un argumento fuerte en cual es mejor, más que nada ver si se necesita una mayor presición o no."
      ],
      "metadata": {
        "id": "Axb_TTkZQek0"
      }
    },
    {
      "cell_type": "markdown",
      "source": [
        "# Trabajo Grupal"
      ],
      "metadata": {
        "id": "ld0ra4ajSP3p"
      }
    },
    {
      "cell_type": "markdown",
      "source": [
        "Para esta parte, se desarrollo el caso de Braam Industries, que se encuentra en la página 874 del ROSS, la cual trata de administración de efectivo.\n",
        "Los resultados a las preguntas del caso, se muestran en la siguiente foto:\n",
        "\n",
        "![WhatsApp Image 2023-10-26 at 17.51.04.jpeg](data:image/jpeg;base64,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)\n",
        "\n",
        "Primero se deben poner las 3 opciones, las cuales fueron elegidas en el hito 1, son Banco de Chile, Enel y Parque Arauco.\n",
        "\n",
        "La primera pregunta a responder es, Ventas Anuales, que corresponde a las ventas dentro de un año de cada activo en millones de dolares, donde Enel tuvo la mayor venta anual. Luego se desarrolla la Tasa de Incumplimiento, la cual se calcula sacando el porcentaje de prestamos en morosidad (que aún no se pagan) respecto al total de ventas anuales por cada opcion, donde la mayor tasa es del Banco de Chile, lo cual hace sentido al ser un banco.\n",
        "\n",
        "Luego se calculan los Costos Administrativos, en donde se calcula sacando el porcentaje de gastos de administracion respecto al total de ventas anuales por cada opcion, donde el mayor porcentaje de gasto administrativo lo tiene Banco de Chile.\n",
        "\n",
        "Para la resolver el Periodo de Cuentas por Cobrar, se utilizo una proporcion similar a la expuesta en el libro.\n",
        "\n",
        "Por último, se obtiene el calculo de VPN para cada opción, esto mediante el calculo de Excel, donde el mayor VPN lo tiene ENEL luego Banco de Chile y por ultimo Parque arauco. Por lo tanto escojemos la opcion ENEL debido que tiene el mayor VPN, y será la mejor política para la empresa.\n",
        "\n",
        "\n",
        "\n"
      ],
      "metadata": {
        "id": "tf6OaouGuced"
      }
    },
    {
      "cell_type": "markdown",
      "source": [
        "# Referencias:\n",
        "\n",
        "El modelo binomial. (n.d.). oikonomicon. Retrieved October 26, 2023, from https://oikonomicon.udc.es/el_modelo_binomial.html\n",
        "\n",
        "(n.d.). CAPITULO IV. MODELO BINOMIAL. Retrieved October 26, 2023, from http://catarina.udlap.mx/u_dl_a/tales/documentos/lat/chanona_r_ma/capitulo4.pdf"
      ],
      "metadata": {
        "id": "MhMjxOGgeK45"
      }
    }
  ]
}